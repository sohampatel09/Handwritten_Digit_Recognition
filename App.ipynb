{
 "cells": [
  {
   "cell_type": "code",
   "execution_count": null,
   "id": "18321886-dc55-448b-95fc-dcc64b7cb2ee",
   "metadata": {},
   "outputs": [
    {
     "name": "stdout",
     "output_type": "stream",
     "text": [
      "pygame 2.1.2 (SDL 2.0.18, Python 3.9.12)\n",
      "Hello from the pygame community. https://www.pygame.org/contribute.html\n"
     ]
    }
   ],
   "source": [
    "import numpy as np\n",
    "import pygame, sys\n",
    "from pygame.locals import *\n",
    "from keras.models import load_model\n",
    "import cv2\n",
    "\n",
    "WINDOWSIZEX = 640\n",
    "WINDOWSIZEY = 480\n",
    "\n",
    "BOUNDARYINC = 5\n",
    "WHITE = (255, 255, 255)\n",
    "BLACK = (0, 0, 0)\n",
    "RED = (255, 0, 0)\n",
    "\n",
    "IMAGESAVE = False\n",
    "\n",
    "MODEL = load_model(\"models/best_model.h5\")\n",
    "\n",
    "LABELS = {0:\"Zero\", 1:\"One\", \n",
    "        2:\"Two\", 3:\"Three\",\n",
    "        4:\"Four\", 5:\"Five\",\n",
    "        6:\"Six\", 7:\"Seven\",\n",
    "        8:\"Eight\", 9:\"Nine\"}\n",
    "\n",
    "\n",
    "# Initialize pygame\n",
    "pygame.init()\n",
    "FONT = pygame.font.Font(\"FreeSansBold.ttf\", 18)\n",
    "DISPLAYSURF = pygame.display.set_mode((WINDOWSIZEX, WINDOWSIZEY))\n",
    "WHITE_INT = DISPLAYSURF.map_rgb(WHITE)\n",
    "pygame.display.set_caption(\"Digit Board\")\n",
    "\n",
    "iswriting = False\n",
    "number_xcord = []\n",
    "number_ycord = []\n",
    "imag_cnt = 1\n",
    "PREDICT = True\n",
    "\n",
    "while True:\n",
    "    for event in pygame.event.get():\n",
    "        if event.type == QUIT:\n",
    "            pygame.quit()\n",
    "            sys.exit()\n",
    "\n",
    "        if event.type == MOUSEMOTION and iswriting:\n",
    "            xcord, ycord = event.pos\n",
    "            pygame.draw.circle(DISPLAYSURF, WHITE, (xcord, ycord), 4, 0)\n",
    "\n",
    "            number_xcord.append(xcord)\n",
    "            number_ycord.append(ycord)\n",
    "\n",
    "        if event.type == MOUSEBUTTONDOWN:\n",
    "            iswriting = True\n",
    "\n",
    "        if event.type == MOUSEBUTTONUP:\n",
    "            iswriting = False\n",
    "            number_xcord = sorted(number_xcord)\n",
    "            number_ycord = sorted(number_ycord)\n",
    "\n",
    "            rect_min_x, rect_max_x = max(number_xcord[0] - BOUNDARYINC, 0), min(WINDOWSIZEX, number_xcord[-1] + BOUNDARYINC)\n",
    "            rect_min_y, rect_max_y = max(number_ycord[0] - BOUNDARYINC, 0), min(WINDOWSIZEY, number_ycord[-1] + BOUNDARYINC)\n",
    "\n",
    "            number_xcord = []\n",
    "            number_ycord = []\n",
    "\n",
    "            img_arr = np.array(pygame.PixelArray(DISPLAYSURF))[rect_min_x:rect_max_x, rect_min_y:rect_max_y].T.astype(np.float32)\n",
    "            \n",
    "            if IMAGESAVE:\n",
    "                cv2.imwrite(\"image.png\")\n",
    "                imag_cnt += 1\n",
    "\n",
    "            if PREDICT:\n",
    "                image = cv2.resize(img_arr, (28, 28))\n",
    "                image = np.pad(image, (10, 10), 'constant', constant_values = 0)\n",
    "                image = cv2.resize(image, (28, 28))/WHITE_INT\n",
    "\n",
    "                label = str(LABELS[np.argmax(MODEL.predict(image.reshape(1, 28, 28, 1)))])\n",
    "\n",
    "                textSurface = FONT.render(label, True, RED, WHITE)\n",
    "                textRecObj = textSurface.get_rect()\n",
    "                textRecObj.left , textRecObj.bottom = rect_min_x, rect_max_y\n",
    "                \n",
    "                DISPLAYSURF.blit(textSurface, textRecObj)\n",
    "\n",
    "            if event.type == KEYDOWN:\n",
    "                if event.unicode == \"N\":\n",
    "                    DISPLAYSURF.fill(BLACK)\n",
    "        \n",
    "        pygame.display.update()"
   ]
  }
 ],
 "metadata": {
  "kernelspec": {
   "display_name": "Python 3.9.12 ('base')",
   "language": "python",
   "name": "python3"
  },
  "language_info": {
   "codemirror_mode": {
    "name": "ipython",
    "version": 3
   },
   "file_extension": ".py",
   "mimetype": "text/x-python",
   "name": "python",
   "nbconvert_exporter": "python",
   "pygments_lexer": "ipython3",
   "version": "3.9.12"
  },
  "vscode": {
   "interpreter": {
    "hash": "a2ab3825ac7005fb7b26f112e9c99ae62f464c629e30b0d534c3b931b6cbc3ff"
   }
  }
 },
 "nbformat": 4,
 "nbformat_minor": 5
}
